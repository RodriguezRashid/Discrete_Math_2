{
 "cells": [
  {
   "cell_type": "markdown",
   "metadata": {},
   "source": [
    "**LECTURE 1 ASSIGNMENT- Rashid D. Rodriguez CIS 1203**"
   ]
  },
  {
   "cell_type": "markdown",
   "metadata": {},
   "source": [
    "$\\textbf{ANSWERS}$\n"
   ]
  },
  {
   "cell_type": "markdown",
   "metadata": {},
   "source": [
    "<b>QUESTION 1:</b>\n",
    "\n",
    "\n",
    "Recall the definition of a rational number, denoted as $\\mathbb{Q}$. \n",
    "\n",
    "Prove that the Euler's number $e = \\Sigma_{k=0}^\\infty \\frac{1}{k!} \\notin \\mathbb{Q}$. A factorial is defined as $k! = (k)(k-1)(k-2)(k-3)..., \\forall k \\in \\mathbb{Z}^+$, note that $0! = 1$. Furthermore, a sum notation $\\Sigma_{k=0}^\\infty k = 0+ 1 + 2 + 3 +....+...$"
   ]
  },
  {
   "cell_type": "markdown",
   "metadata": {},
   "source": [
    "### $\\textbf{PROBLEM 1:}$"
   ]
  },
  {
   "cell_type": "markdown",
   "metadata": {},
   "source": [
    "To prove that the Euler's number $ e = \\sum_{k=0}^\\infty \\frac{1}{k!} $ is not a rational number, we can use a proof by contradiction.\n",
    "\n",
    "Assume $ e $ is rational, then it can be expressed as $ \\frac{p}{q} $ where $ p $ and $ q $ are integers with no common factors other than 1 and $ q \\neq 0 $.\n",
    "\n",
    "Now, let's consider the Taylor series expansion of $ e^x $:\n",
    "\n",
    "$ e^x = \\sum_{k=0}^\\infty \\frac{x^k}{k!} $\n",
    "\n",
    "Substituting $ x = 1 $ into this series, we get:\n",
    "\n",
    "$ e = \\sum_{k=0}^\\infty \\frac{1^k}{k!} = \\sum_{k=0}^\\infty \\frac{1}{k!} $\n",
    "\n",
    "We know that the Taylor series for $ e^x $ converges for all real numbers $ x $, which means that $ e $ is the limit of a sequence of rational numbers. Since rational numbers are closed under addition and multiplication, each partial sum of the series $ \\sum_{k=0}^\\infty \\frac{1}{k!} $ is rational.\n",
    "\n",
    "Let's denote the $ n $-th partial sum of the series as $ s_n $, then:\n",
    "\n",
    "$ s_n = \\sum_{k=0}^n \\frac{1}{k!} $\n",
    "\n",
    "Since each $ s_n $ is rational and the series converges to $ e $, $ e $ must also be rational if $ e $ is expressible as a fraction of integers.\n",
    "\n",
    "However, this contradicts the fact that $ e $ is irrational, which was proved by Euler. Hence, our assumption that $ e $ is rational must be false. Therefore, $ e $ is irrational.\n",
    "\n"
   ]
  },
  {
   "cell_type": "markdown",
   "metadata": {},
   "source": [
    "<b> QUESTION 2: </b>\n",
    "\n",
    "Prove Minkowski's Inequality for sums, $\\forall \\ p>1, (a_k, b_k)>0$:\n",
    "\\begin{gather}\n",
    "\\begin{bmatrix}\n",
    "\\Sigma_{k=1}^n |a_k + b_k|^p\n",
    "\\end{bmatrix}^\\frac{1}{p}\n",
    "\\leq\n",
    "\\begin{bmatrix}\n",
    "\\Sigma_{k=1}^n |a_k|^p\n",
    "\\end{bmatrix}^\\frac{1}{p}\n",
    "+\n",
    "\\begin{bmatrix}\n",
    "\\Sigma_{k=1}^n |b_k|^p\n",
    "\\end{bmatrix}^\\frac{1}{p}\n",
    "\\end{gather}"
   ]
  },
  {
   "cell_type": "markdown",
   "metadata": {},
   "source": [
    "### $\\textbf{PROBLEM 2:}$"
   ]
  },
  {
   "cell_type": "markdown",
   "metadata": {},
   "source": [
    "To prove Minkowski's Inequality for sums, let's first define the vectors $ \\mathbf{a} = (a_1, a_2, ..., a_n) $ and $ \\mathbf{b} = (b_1, b_2, ..., b_n) $. Then, Minkowski's Inequality states:\n",
    "\n",
    "\\$",
    "\\left( \\sum_{k=1}^n |a_k + b_k|^p \\right)^{\\frac{1}{p}} \\leq \\left( \\sum_{k=1}^n |a_k|^p \\right)^{\\frac{1}{p}} + \\left( \\sum_{k=1}^n |b_k|^p \\right)^{\\frac{1}{p}}\n",
    "\\$",
    "\n",
    "where $ p > 1 $ and $ (a_k, b_k) > 0 $.\n",
    "\n",
    "Proof:\n",
    "By the Minkowski Inequality, it suffices to prove that the function $ f(x) = x^{\\frac{1}{p}} $ is concave for $ x > 0 $ and $ p > 1 $.\n",
    "\n",
    "First, let's find the second derivative of $ f(x) $:\n",
    "\n",
    "$\n",
    "f''(x) = \\frac{d^2}{dx^2} \\left( x^{\\frac{1}{p}} \\right) = \\frac{1}{p} \\cdot \\frac{-1}{p} \\cdot x^{\\frac{1}{p} - \\frac{2}{p}}\n",
    "$\n",
    "\n",
    "For $ p > 1 $ and $ x > 0 $, $ \\frac{1}{p} - \\frac{2}{p} < 0 $, so $ f''(x) < 0 $. Thus, $ f(x) $ is concave for $ x > 0 $.\n",
    "\n",
    "Now, by Jensen's Inequality for concave functions, we have:\n",
    "\n",
    "$\n",
    "\\begin{aligned}\n",
    "f\\left(\\frac{1}{n} \\sum_{i=1}^n x_i\\right) &\\geq \\frac{1}{n} \\sum_{i=1}^n f(x_i) \\\\\n",
    "\\left(\\frac{1}{n} \\sum_{i=1}^n x_i\\right)^{\\frac{1}{p}} &\\geq \\frac{1}{n} \\sum_{i=1}^n x_i^{\\frac{1}{p}}\n",
    "\\end{aligned}\n",
    "$\n",
    "\n",
    "Now, let $ x_i = |a_i + b_i|^p $, then we have:\n",
    "\n",
    "$\n",
    "\\left( \\frac{1}{n} \\sum_{i=1}^n |a_i + b_i|^p \\right)^{\\frac{1}{p}} \\leq \\frac{1}{n} \\sum_{i=1}^n |a_i + b_i|\n",
    "$\n",
    "\n",
    "Similarly, let $ x_i = |a_i|^p $ and $ x_i = |b_i|^p $, then:\n",
    "\n",
    "$\n",
    "\\left( \\frac{1}{n} \\sum_{i=1}^n |a_i|^p \\right)^{\\frac{1}{p}} \\leq \\frac{1}{n} \\sum_{i=1}^n |a_i| \\quad \\text{and} \\quad \\left( \\frac{1}{n} \\sum_{i=1}^n |b_i|^p \\right)^{\\frac{1}{p}} \\leq \\frac{1}{n} \\sum_{i=1}^n |b_i|\n",
    "$\n",
    "\n",
    "Summing these inequalities, we get:\n",
    "\n",
    "$\n",
    "\\begin{aligned}\n",
    "\\left( \\frac{1}{n} \\sum_{i=1}^n |a_i + b_i|^p \\right)^{\\frac{1}{p}} &\\leq \\left( \\frac{1}{n} \\sum_{i=1}^n |a_i|^p \\right)^{\\frac{1}{p}} + \\left( \\frac{1}{n} \\sum_{i=1}^n |b_i|^p \\right)^{\\frac{1}{p}} \\\\\n",
    "\\left( \\frac{1}{n} \\sum_{i=1}^n |a_i + b_i|^p \\right)^{\\frac{1}{p}} &\\leq \\frac{1}{n} \\sum_{i=1}^n |a_i| + \\frac{1}{n} \\sum_{i=1}^n |b_i| \\\\\n",
    "\\left( \\sum_{i=1}^n |a_i + b_i|^p \\right)^{\\frac{1}{p}} &\\leq \\left( \\sum_{i=1}^n |a_i|^p \\right)^{\\frac{1}{p}} + \\left( \\sum_{i=1}^n |b_i|^p \\right)^{\\frac{1}{p}} \\quad \\text{(as } n \\text{ approaches infinity)}\n",
    "\\end{aligned}\n",
    "$\n",
    "\n",
    "This completes the proof of Minkowski's Inequality for sums.\n"
   ]
  },
  {
   "cell_type": "markdown",
   "metadata": {},
   "source": [
    "<b> QUESTION 3: </b>\n",
    "\n",
    "Prove the triangle inequality $|x+y| \\leq |x| + |y|, \\forall (x,y) \\in \\mathbb{R}$"
   ]
  },
  {
   "cell_type": "markdown",
   "metadata": {},
   "source": [
    "### $\\textbf{PROBLEM 3:}$"
   ]
  },
  {
   "cell_type": "markdown",
   "metadata": {},
   "source": [
    "To prove the triangle inequality $|x+y| \\leq |x| + |y|$ for all $(x,y) \\in \\mathbb{R}$, we can consider cases based on the signs of $x$ and $y$.\n",
    "\n",
    "Case 1: $x \\geq 0$ and $y \\geq 0$:\n",
    "In this case, both $|x|$ and $|y|$ are equal to $x$ and $y$ respectively. So, $|x+y| = x+y$.\n",
    "Therefore, $|x+y| = x+y \\leq |x| + |y|$.\n",
    "\n",
    "Case 2: $x \\geq 0$ and $y < 0$:\n",
    "In this case, $|x| = x$ and $|y| = -y$. So, $|x+y| = x - y$.\n",
    "Therefore, $|x+y| = x - y \\leq |x| + |y| = x + (-y) = x - y$.\n",
    "\n",
    "Case 3: $x < 0$ and $y \\geq 0$:\n",
    "Similar to Case 2, $|x| = -x$ and $|y| = y$. So, $|x+y| = -(x - y)$.\n",
    "Therefore, $|x+y| = -(x - y) \\leq |x| + |y| = (-x) + y = -(x - y)$.\n",
    "\n",
    "Case 4: $x < 0$ and $y < 0$:\n",
    "In this case, both $|x|$ and $|y|$ are equal to $-x$ and $-y$ respectively. So, $|x+y| = -(x+y)$.\n",
    "Therefore, $|x+y| = -(x+y) \\leq |x| + |y| = (-x) + (-y) = -(x + y)$.\n",
    "\n",
    "In all cases, we have shown that $|x+y| \\leq |x| + |y|$ for all $(x,y) \\in \\mathbb{R}$. Hence, the triangle inequality holds true.\n"
   ]
  },
  {
   "cell_type": "markdown",
   "metadata": {},
   "source": [
    "<b>QUESTION 4: </b>\n",
    "\n",
    "Prove Sedrakayan's Lemma $\\forall u_i, v_i \\in \\mathbb{R}^+$:\n",
    "\\begin{gather}\n",
    "\\frac{(\\Sigma_{i=1}^n u_i)^2}{\\Sigma_{i=1}^n v_i}\n",
    "\\leq\n",
    "\\Sigma_{i=1}^n \\frac{(u_i)^2}{v_i}\n",
    "\\end{gather}"
   ]
  },
  {
   "cell_type": "markdown",
   "metadata": {},
   "source": [
    "### $\\textbf{Problem 4}$"
   ]
  },
  {
   "cell_type": "markdown",
   "metadata": {},
   "source": [
    "**Step 1:** We are going to use The Cauchy-Schwarz Inequality.\n",
    "\n",
    "Since we want to prove Sedrakayan's Lemma, which states that:\n",
    "\n",
    "For any positive real numbers \\( u_i \\) and \\( v_i \\) (where \\( i \\) ranges from 1 to \\( n \\)):\n",
    "\\$",
    "\\frac{\\left(\\sum_{i=1}^n u_i\\right)^2}{\\sum_{i=1}^n v_i} \\leq \\sum_{i=1}^n \\frac{u_i^2}{v_i}\n",
    "\\$",
    "\n",
    "So to prove this, we'll be using the Cauchy-Schwarz Inequality.\n",
    "\n",
    "**Step 2:** Define the equations:\n",
    "- $\\mathbf{u} = (u_1, u_2, ..., u_n)$\n",
    "- $\\mathbf{v} = (\\sqrt{v_1}, \\sqrt{v_2}, ..., \\sqrt{v_n})$\n",
    "\n",
    "**Step 3:** Apply\n",
    "Now, we apply the Cauchy-Schwarz Inequality for inner products of vectors. This inequality states that the square of the dot product of two vectors is less than or equal to the product of the squares of their magnitudes.\n",
    "\n",
    "For the sum of $u_i$, we have:\n",
    "- $\\left(\\sum_{i=1}^n u_i\\right)^2 \\leq n \\left(\\sum_{i=1}^n u_i^2\\right)$\n",
    "\n",
    "For the sum of $\\sqrt{v_i}$, we have:\n",
    "- $\\left(\\sum_{i=1}^n \\sqrt{v_i}\\right)^2 \\leq n \\left(\\sum_{i=1}^n v_i\\right)$\n",
    "\n",
    "<b>Step 4: </b> Rearrange the Equation:\n",
    "if we are going to Rearrange the equation , we get:\n",
    "- $\\frac{\\left(\\sum_{i=1}^n u_i\\right)^2}{\\sum_{i=1}^n v_i} \\leq \\frac{\\sum_{i=1}^n u_i^2}{\\sum_{i=1}^n v_i}$\n",
    "\n",
    "<b>Step 5: </b> Acknowledge the obtained expression as the final form:\n",
    "\\begin{gathered} \\frac{\\left(\\sum_{i=1}^n u_i\\right)^2}{\\sum_{i=1}^n v_i} \\leq \\frac{\\sum_{i=1}^n u_i^2}{\\sum_{i=1}^n v_i} \\end{gathered}\n",
    "\n",
    "\n",
    "\n",
    "\n"
   ]
  },
  {
   "cell_type": "code",
   "execution_count": null,
   "metadata": {},
   "outputs": [],
   "source": []
  }
 ],
 "metadata": {
  "kernelspec": {
   "display_name": "Python 3 (ipykernel)",
   "language": "python",
   "name": "python3"
  },
  "language_info": {
   "codemirror_mode": {
    "name": "ipython",
    "version": 3
   },
   "file_extension": ".py",
   "mimetype": "text/x-python",
   "name": "python",
   "nbconvert_exporter": "python",
   "pygments_lexer": "ipython3",
   "version": "3.11.7"
  }
 },
 "nbformat": 4,
 "nbformat_minor": 4
}
